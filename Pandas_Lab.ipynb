{
  "nbformat": 4,
  "nbformat_minor": 0,
  "metadata": {
    "colab": {
      "name": "Pandas_Lab",
      "provenance": [],
      "collapsed_sections": []
    },
    "kernelspec": {
      "name": "python3",
      "display_name": "Python 3"
    }
  },
  "cells": [
    {
      "cell_type": "markdown",
      "metadata": {
        "id": "8rke76Egx6Kz",
        "colab_type": "text"
      },
      "source": [
        "# Pandas Workshop"
      ]
    },
    {
      "cell_type": "code",
      "metadata": {
        "id": "JuYbBKzKciun",
        "colab_type": "code",
        "colab": {}
      },
      "source": [
        "# import numpy and pandas library\n",
        "\n",
        "\n",
        "# import some library to plot data, i.e. matplotlib\n"
      ],
      "execution_count": 0,
      "outputs": []
    },
    {
      "cell_type": "markdown",
      "metadata": {
        "id": "pKNpA9VRxyyg",
        "colab_type": "text"
      },
      "source": [
        "## 1. Create a serie or a dataset from scratch\n",
        "\n",
        "---\n",
        "\n",
        "### Some intro & definitions:\n",
        "* Dataframe: columns names (variables), row index (id) and values (registers)\n",
        "* we can access through numbers or labels\n",
        "* Serie: 1 dimension labelled array (can have index)\n",
        "\n",
        "---"
      ]
    },
    {
      "cell_type": "code",
      "metadata": {
        "id": "0l8i7pUueDCp",
        "colab_type": "code",
        "colab": {}
      },
      "source": [
        "# create a serie with the following values: 100, 200, 300, 400 and 500\n"
      ],
      "execution_count": 0,
      "outputs": []
    },
    {
      "cell_type": "code",
      "metadata": {
        "id": "rtT5RS3keDHG",
        "colab_type": "code",
        "colab": {}
      },
      "source": [
        "# create the same serie with now with different years as index and 'Sales product A' as name\n"
      ],
      "execution_count": 0,
      "outputs": []
    },
    {
      "cell_type": "code",
      "metadata": {
        "id": "k4v3HaKscs6U",
        "colab_type": "code",
        "colab": {}
      },
      "source": [
        "# create a dataframe with 2 columns ('category' and 'units')\n",
        "# assign text values for the first one and number for the second one\n"
      ],
      "execution_count": 0,
      "outputs": []
    },
    {
      "cell_type": "code",
      "metadata": {
        "id": "pbXqnTzM93Zx",
        "colab_type": "code",
        "colab": {}
      },
      "source": [
        "# you can also assign an index to the dataframe or specify it when creating\n"
      ],
      "execution_count": 0,
      "outputs": []
    },
    {
      "cell_type": "code",
      "metadata": {
        "id": "LJtr_Lh5x8cx",
        "colab_type": "code",
        "colab": {}
      },
      "source": [
        "# check types of both\n"
      ],
      "execution_count": 0,
      "outputs": []
    },
    {
      "cell_type": "markdown",
      "metadata": {
        "id": "4fem_P4hyQOR",
        "colab_type": "text"
      },
      "source": [
        "## 2. Load & explore data"
      ]
    },
    {
      "cell_type": "code",
      "metadata": {
        "id": "TYRdzspefOMl",
        "colab_type": "code",
        "colab": {}
      },
      "source": [
        "# Only if you are using Google Colab: \n",
        "# Activate your drive in the left menu --> run the cell --> copy/paste token to connect\n"
      ],
      "execution_count": 0,
      "outputs": []
    },
    {
      "cell_type": "code",
      "metadata": {
        "id": "shrbJcWwctAu",
        "colab_type": "code",
        "colab": {}
      },
      "source": [
        "# specify file path (you can select the file in the menu directory and copy/paste the path)\n"
      ],
      "execution_count": 0,
      "outputs": []
    },
    {
      "cell_type": "code",
      "metadata": {
        "id": "XU-1IFAefLNC",
        "colab_type": "code",
        "colab": {}
      },
      "source": [
        "# read csv from file path --> as a dataframe\n"
      ],
      "execution_count": 0,
      "outputs": []
    },
    {
      "cell_type": "code",
      "metadata": {
        "id": "-4nFqYVbewEN",
        "colab_type": "code",
        "colab": {}
      },
      "source": [
        "# check the length of the dataset\n"
      ],
      "execution_count": 0,
      "outputs": []
    },
    {
      "cell_type": "code",
      "metadata": {
        "id": "1TeLZbbdgDhz",
        "colab_type": "code",
        "colab": {}
      },
      "source": [
        "# check number of columns (variables) and rows (observations)\n"
      ],
      "execution_count": 0,
      "outputs": []
    },
    {
      "cell_type": "code",
      "metadata": {
        "id": "_d8G7p-NzC73",
        "colab_type": "code",
        "colab": {}
      },
      "source": [
        "# read columns names\n"
      ],
      "execution_count": 0,
      "outputs": []
    },
    {
      "cell_type": "code",
      "metadata": {
        "id": "ZsdBOpf5gFYh",
        "colab_type": "code",
        "colab": {}
      },
      "source": [
        "# read index\n"
      ],
      "execution_count": 0,
      "outputs": []
    },
    {
      "cell_type": "code",
      "metadata": {
        "id": "LZhOLuQDewJp",
        "colab_type": "code",
        "colab": {}
      },
      "source": [
        "# check the first 5 and 10 rows\n"
      ],
      "execution_count": 0,
      "outputs": []
    },
    {
      "cell_type": "code",
      "metadata": {
        "id": "Z8brxuXKgNbW",
        "colab_type": "code",
        "colab": {}
      },
      "source": [
        "# check the last 5 and 3 rows\n"
      ],
      "execution_count": 0,
      "outputs": []
    },
    {
      "cell_type": "code",
      "metadata": {
        "id": "MtHN8d3UgTnD",
        "colab_type": "code",
        "colab": {}
      },
      "source": [
        "# check 4 and 1 random rows\n"
      ],
      "execution_count": 0,
      "outputs": []
    },
    {
      "cell_type": "code",
      "metadata": {
        "id": "UNYDJf0bzY4k",
        "colab_type": "code",
        "colab": {}
      },
      "source": [
        "# check types of variables\n"
      ],
      "execution_count": 0,
      "outputs": []
    },
    {
      "cell_type": "code",
      "metadata": {
        "id": "jLBBhHeEzY1J",
        "colab_type": "code",
        "colab": {}
      },
      "source": [
        "# check information about types, null and registers for all variables\n"
      ],
      "execution_count": 0,
      "outputs": []
    },
    {
      "cell_type": "code",
      "metadata": {
        "id": "-DP_ORZdzqqj",
        "colab_type": "code",
        "colab": {}
      },
      "source": [
        "# check missing values \n"
      ],
      "execution_count": 0,
      "outputs": []
    },
    {
      "cell_type": "code",
      "metadata": {
        "id": "dSrPpjT3zYye",
        "colab_type": "code",
        "colab": {}
      },
      "source": [
        "# check unique values \n"
      ],
      "execution_count": 0,
      "outputs": []
    },
    {
      "cell_type": "code",
      "metadata": {
        "id": "n5ejIb-tctDb",
        "colab_type": "code",
        "colab": {}
      },
      "source": [
        "# sort values by column 'client', in the order you want\n"
      ],
      "execution_count": 0,
      "outputs": []
    },
    {
      "cell_type": "code",
      "metadata": {
        "id": "mW4D2iWng-vq",
        "colab_type": "code",
        "colab": {}
      },
      "source": [
        "# reset the index\n"
      ],
      "execution_count": 0,
      "outputs": []
    },
    {
      "cell_type": "code",
      "metadata": {
        "id": "K3Q6SXDJhFFM",
        "colab_type": "code",
        "colab": {}
      },
      "source": [
        "# set again the index to the original one\n"
      ],
      "execution_count": 0,
      "outputs": []
    },
    {
      "cell_type": "code",
      "metadata": {
        "id": "9nIb1fxJg-pj",
        "colab_type": "code",
        "colab": {}
      },
      "source": [
        "# sort values by 'city' and 'shop', in the order you want\n"
      ],
      "execution_count": 0,
      "outputs": []
    },
    {
      "cell_type": "code",
      "metadata": {
        "id": "KZ4x8DWk4fsa",
        "colab_type": "code",
        "colab": {}
      },
      "source": [
        "# rename variable 'moment'replacing by 'date_hour' and 'vip' by 'Loyalty_card'\n"
      ],
      "execution_count": 0,
      "outputs": []
    },
    {
      "cell_type": "code",
      "metadata": {
        "id": "0eugi66P5C_N",
        "colab_type": "code",
        "colab": {}
      },
      "source": [
        "# drop column 'gender'\n"
      ],
      "execution_count": 0,
      "outputs": []
    },
    {
      "cell_type": "markdown",
      "metadata": {
        "id": "1vBIFLS03ufZ",
        "colab_type": "text"
      },
      "source": [
        "## 3. Analyze & understand data\n",
        "\n",
        "### Select with rows & columns"
      ]
    },
    {
      "cell_type": "code",
      "metadata": {
        "id": "gGcWhL3UewMb",
        "colab_type": "code",
        "colab": {}
      },
      "source": [
        "# select column 'Shop'\n"
      ],
      "execution_count": 0,
      "outputs": []
    },
    {
      "cell_type": "code",
      "metadata": {
        "id": "Z-Rca_FFewPy",
        "colab_type": "code",
        "colab": {}
      },
      "source": [
        "# select row 6\n"
      ],
      "execution_count": 0,
      "outputs": []
    },
    {
      "cell_type": "code",
      "metadata": {
        "id": "3Nm4mmp4ewH1",
        "colab_type": "code",
        "colab": {}
      },
      "source": [
        "# select the 'product' of the 4th register (only the value of this cell)\n"
      ],
      "execution_count": 0,
      "outputs": []
    },
    {
      "cell_type": "code",
      "metadata": {
        "id": "IMIl6ljCewCK",
        "colab_type": "code",
        "colab": {}
      },
      "source": [
        "# select the 'product' and 'quantity' values of the first 5 registers using labels\n"
      ],
      "execution_count": 0,
      "outputs": []
    },
    {
      "cell_type": "code",
      "metadata": {
        "id": "8lwhcYuTev_9",
        "colab_type": "code",
        "colab": {}
      },
      "source": [
        "# select the 'city' of the last 5 registers, but now using positions \n"
      ],
      "execution_count": 0,
      "outputs": []
    },
    {
      "cell_type": "code",
      "metadata": {
        "id": "ol8jKUFrKRxW",
        "colab_type": "code",
        "colab": {}
      },
      "source": [
        "# select the 'city' of registers 1 and 10 using positions \n"
      ],
      "execution_count": 0,
      "outputs": []
    },
    {
      "cell_type": "code",
      "metadata": {
        "id": "5l8IRbgmKtNJ",
        "colab_type": "code",
        "colab": {}
      },
      "source": [
        "# select the 'city' and 'operation' of registers 1 and 10 using positions \n"
      ],
      "execution_count": 0,
      "outputs": []
    },
    {
      "cell_type": "code",
      "metadata": {
        "id": "TWWaJq4-pEr3",
        "colab_type": "code",
        "colab": {}
      },
      "source": [
        "# see all values of the column 'product'\n"
      ],
      "execution_count": 0,
      "outputs": []
    },
    {
      "cell_type": "markdown",
      "metadata": {
        "id": "oZo9EhkljgFM",
        "colab_type": "text"
      },
      "source": [
        "### Select with conditions"
      ]
    },
    {
      "cell_type": "code",
      "metadata": {
        "id": "qbzb9LsGctGC",
        "colab_type": "code",
        "colab": {}
      },
      "source": [
        " # registers who purchased 'tortilla'\n"
      ],
      "execution_count": 0,
      "outputs": []
    },
    {
      "cell_type": "code",
      "metadata": {
        "id": "IqCHBFzVjQIH",
        "colab_type": "code",
        "colab": {}
      },
      "source": [
        "# registers that are not 'purchase' operations\n"
      ],
      "execution_count": 0,
      "outputs": []
    },
    {
      "cell_type": "code",
      "metadata": {
        "id": "hvmakTDIi_Wd",
        "colab_type": "code",
        "colab": {}
      },
      "source": [
        "# registers that are 5 or more units purchased\n"
      ],
      "execution_count": 0,
      "outputs": []
    },
    {
      "cell_type": "code",
      "metadata": {
        "id": "Y6MoC75gjNGO",
        "colab_type": "code",
        "colab": {}
      },
      "source": [
        "# registers that are lower than 3 units purchased\n"
      ],
      "execution_count": 0,
      "outputs": []
    },
    {
      "cell_type": "code",
      "metadata": {
        "id": "NflAZGgijV39",
        "colab_type": "code",
        "colab": {}
      },
      "source": [
        "# registers with one of these products: 'chorizo','paella','tortilla'\n"
      ],
      "execution_count": 0,
      "outputs": []
    },
    {
      "cell_type": "code",
      "metadata": {
        "id": "-w2nHClRnoBJ",
        "colab_type": "code",
        "colab": {}
      },
      "source": [
        "# registers where we don't know which client is\n"
      ],
      "execution_count": 0,
      "outputs": []
    },
    {
      "cell_type": "code",
      "metadata": {
        "id": "yP82BI5xnoQW",
        "colab_type": "code",
        "colab": {}
      },
      "source": [
        "# registers where we know the age of the client\n"
      ],
      "execution_count": 0,
      "outputs": []
    },
    {
      "cell_type": "code",
      "metadata": {
        "id": "Uqzk6lOEjDfH",
        "colab_type": "code",
        "colab": {}
      },
      "source": [
        "# registers that have more at least 3 beers\n"
      ],
      "execution_count": 0,
      "outputs": []
    },
    {
      "cell_type": "code",
      "metadata": {
        "id": "EPY9shbokZ3j",
        "colab_type": "code",
        "colab": {}
      },
      "source": [
        "# registers that have more product with more than 10 units or products that are not food\n"
      ],
      "execution_count": 0,
      "outputs": []
    },
    {
      "cell_type": "markdown",
      "metadata": {
        "id": "nuP5o4Cnnzj8",
        "colab_type": "text"
      },
      "source": [
        "### Analyze statistical values\n",
        "\n",
        "\n"
      ]
    },
    {
      "cell_type": "code",
      "metadata": {
        "id": "UiNw-HHik4ov",
        "colab_type": "code",
        "colab": {}
      },
      "source": [
        "# check the maximum value of quantity\n"
      ],
      "execution_count": 0,
      "outputs": []
    },
    {
      "cell_type": "code",
      "metadata": {
        "id": "qjGT2DAooA-Z",
        "colab_type": "code",
        "colab": {}
      },
      "source": [
        "# check the minimmum value of quantity\n"
      ],
      "execution_count": 0,
      "outputs": []
    },
    {
      "cell_type": "code",
      "metadata": {
        "id": "OO8tbox3oA63",
        "colab_type": "code",
        "colab": {}
      },
      "source": [
        "# check the average value of quantity\n"
      ],
      "execution_count": 0,
      "outputs": []
    },
    {
      "cell_type": "code",
      "metadata": {
        "id": "Y-wm26-zoA1v",
        "colab_type": "code",
        "colab": {}
      },
      "source": [
        "# check the variance value of quantity\n"
      ],
      "execution_count": 0,
      "outputs": []
    },
    {
      "cell_type": "code",
      "metadata": {
        "id": "Y9MYozy1oAsC",
        "colab_type": "code",
        "colab": {}
      },
      "source": [
        "# check the standard deviation of quantity\n"
      ],
      "execution_count": 0,
      "outputs": []
    },
    {
      "cell_type": "code",
      "metadata": {
        "id": "9SS8ewQDoAyp",
        "colab_type": "code",
        "colab": {}
      },
      "source": [
        "# check the median value of quantity\n"
      ],
      "execution_count": 0,
      "outputs": []
    },
    {
      "cell_type": "code",
      "metadata": {
        "id": "rpdC3b-QoeRB",
        "colab_type": "code",
        "colab": {}
      },
      "source": [
        "# check the mode value of quantity\n"
      ],
      "execution_count": 0,
      "outputs": []
    },
    {
      "cell_type": "code",
      "metadata": {
        "id": "35cOPCSkoAvJ",
        "colab_type": "code",
        "colab": {}
      },
      "source": [
        "# check the sum of quantity\n"
      ],
      "execution_count": 0,
      "outputs": []
    },
    {
      "cell_type": "code",
      "metadata": {
        "id": "Bm7uGE9lon37",
        "colab_type": "code",
        "colab": {}
      },
      "source": [
        "# check the cut value of quantity of 75% of the registers\n"
      ],
      "execution_count": 0,
      "outputs": []
    },
    {
      "cell_type": "code",
      "metadata": {
        "id": "VcBJWOLPzYr-",
        "colab_type": "code",
        "colab": {}
      },
      "source": [
        "# get a quick statistic summary for all numeric variables\n"
      ],
      "execution_count": 0,
      "outputs": []
    },
    {
      "cell_type": "code",
      "metadata": {
        "id": "i2zhNGdx5W7-",
        "colab_type": "code",
        "colab": {}
      },
      "source": [
        "# see distribution of observations (absolutes) for the 'product' variable\n"
      ],
      "execution_count": 0,
      "outputs": []
    },
    {
      "cell_type": "code",
      "metadata": {
        "id": "LU7QCsSPp46H",
        "colab_type": "code",
        "colab": {}
      },
      "source": [
        "# see distribution in % for the 'product' variable\n"
      ],
      "execution_count": 0,
      "outputs": []
    },
    {
      "cell_type": "markdown",
      "metadata": {
        "id": "jOlxSoAS1bm2",
        "colab_type": "text"
      },
      "source": [
        "### Plot the data"
      ]
    },
    {
      "cell_type": "code",
      "metadata": {
        "id": "ArTo6odYmVv-",
        "colab_type": "code",
        "colab": {}
      },
      "source": [
        "# plot an histogram of the 'quantity' variable\n"
      ],
      "execution_count": 0,
      "outputs": []
    },
    {
      "cell_type": "code",
      "metadata": {
        "id": "H4v7ER0nmjnG",
        "colab_type": "code",
        "colab": {}
      },
      "source": [
        "# fine-tune the histogram with a different number a bins\n"
      ],
      "execution_count": 0,
      "outputs": []
    },
    {
      "cell_type": "code",
      "metadata": {
        "id": "CXlv1JAp5hjl",
        "colab_type": "code",
        "colab": {}
      },
      "source": [
        "# plot distribution of all columns with boxplots\n"
      ],
      "execution_count": 0,
      "outputs": []
    },
    {
      "cell_type": "markdown",
      "metadata": {
        "id": "mbfNBAw36AHq",
        "colab_type": "text"
      },
      "source": [
        "## 4. Clean and Transform data\n",
        "\n",
        "---\n",
        "* to homogeneize data\n",
        "* to operate on data (type)\n",
        "* to analyse data in a proper way (table or view) \n",
        "* to create new variables relevant for analysis\n",
        "---\n",
        "\n",
        "### Operations with Series"
      ]
    },
    {
      "cell_type": "code",
      "metadata": {
        "id": "nePKbtW0C6zD",
        "colab_type": "code",
        "colab": {}
      },
      "source": [
        "# create another serie using the previous one and adding 50 to all values\n",
        "# then rename it 'Sales Product B'\n"
      ],
      "execution_count": 0,
      "outputs": []
    },
    {
      "cell_type": "code",
      "metadata": {
        "id": "sq518Dq8C658",
        "colab_type": "code",
        "colab": {}
      },
      "source": [
        "# in this new serie, replace the value of 150 by a missing value and 350 by 300\n"
      ],
      "execution_count": 0,
      "outputs": []
    },
    {
      "cell_type": "code",
      "metadata": {
        "id": "GVGtzHC8C7QR",
        "colab_type": "code",
        "colab": {}
      },
      "source": [
        "# create a third serie which is the sum of the previous and the second series previously created\n"
      ],
      "execution_count": 0,
      "outputs": []
    },
    {
      "cell_type": "code",
      "metadata": {
        "id": "D6npCAGdC7Hw",
        "colab_type": "code",
        "colab": {}
      },
      "source": [
        "# check if it correctly did the sum in the position you have a missing value\n",
        "# if not try to do the same but now considering that the missing value means 0 sales\n"
      ],
      "execution_count": 0,
      "outputs": []
    },
    {
      "cell_type": "code",
      "metadata": {
        "id": "g-Ef619GFDt2",
        "colab_type": "code",
        "colab": {}
      },
      "source": [
        "# Create another serie which is the substraction of the first one by the second one\n"
      ],
      "execution_count": 0,
      "outputs": []
    },
    {
      "cell_type": "code",
      "metadata": {
        "id": "cSYZ7_aAFD4H",
        "colab_type": "code",
        "colab": {}
      },
      "source": [
        "# Now another one that represents the multiplication of the first by the second one\n"
      ],
      "execution_count": 0,
      "outputs": []
    },
    {
      "cell_type": "code",
      "metadata": {
        "id": "-NN0hVP5FD0T",
        "colab_type": "code",
        "colab": {}
      },
      "source": [
        "# Now the last one, that represents the division of the first by the second one\n"
      ],
      "execution_count": 0,
      "outputs": []
    },
    {
      "cell_type": "markdown",
      "metadata": {
        "id": "M0lv82bHJKm5",
        "colab_type": "text"
      },
      "source": [
        "### Checking and changing type"
      ]
    },
    {
      "cell_type": "code",
      "metadata": {
        "id": "oHUg09t0JRlX",
        "colab_type": "code",
        "colab": {}
      },
      "source": [
        "# check variables types \n"
      ],
      "execution_count": 0,
      "outputs": []
    },
    {
      "cell_type": "code",
      "metadata": {
        "id": "p1jJjA35JgCk",
        "colab_type": "code",
        "colab": {}
      },
      "source": [
        "# change 'date_hour' column as 'datetime' type instead of object\n"
      ],
      "execution_count": 0,
      "outputs": []
    },
    {
      "cell_type": "code",
      "metadata": {
        "id": "LTk-quzCJouh",
        "colab_type": "code",
        "colab": {}
      },
      "source": [
        "# change 'shop' and 'client' from numerical (int or float) to alphanumeric (text)\n"
      ],
      "execution_count": 0,
      "outputs": []
    },
    {
      "cell_type": "code",
      "metadata": {
        "id": "Ge9iHtZoKi84",
        "colab_type": "code",
        "colab": {}
      },
      "source": [
        "# change 'quantity' from int to float\n"
      ],
      "execution_count": 0,
      "outputs": []
    },
    {
      "cell_type": "code",
      "metadata": {
        "id": "JjIB5w19KjEv",
        "colab_type": "code",
        "colab": {}
      },
      "source": [
        "# check variables types again\n"
      ],
      "execution_count": 0,
      "outputs": []
    },
    {
      "cell_type": "markdown",
      "metadata": {
        "id": "vjxtEf2CHOAM",
        "colab_type": "text"
      },
      "source": [
        "### Creating new variables, cleaning data and changing structure of the dataframe\n"
      ]
    },
    {
      "cell_type": "code",
      "metadata": {
        "id": "bRQ7Hby9yykD",
        "colab_type": "code",
        "colab": {}
      },
      "source": [
        "# create a new column 'country' and assign 'Spain' to all registers\n"
      ],
      "execution_count": 0,
      "outputs": []
    },
    {
      "cell_type": "code",
      "metadata": {
        "id": "OxPBZE734QAe",
        "colab_type": "code",
        "colab": {}
      },
      "source": [
        "# create another dataframe with 1 column named 'product'\n",
        "# assign all the different values for product (without duplicated, like a catalogue)\n"
      ],
      "execution_count": 0,
      "outputs": []
    },
    {
      "cell_type": "code",
      "metadata": {
        "id": "cRn18ht8FF3I",
        "colab_type": "code",
        "colab": {}
      },
      "source": [
        "# assign a price to each one in another column named 'price'\n"
      ],
      "execution_count": 0,
      "outputs": []
    },
    {
      "cell_type": "code",
      "metadata": {
        "id": "Yergfkfc6oPY",
        "colab_type": "code",
        "colab": {}
      },
      "source": [
        "# merge the price data with the original dataframe (like a \"LEFT JOIN\")\n"
      ],
      "execution_count": 0,
      "outputs": []
    },
    {
      "cell_type": "code",
      "metadata": {
        "id": "CVon2wjy6oTL",
        "colab_type": "code",
        "colab": {}
      },
      "source": [
        "# create 2 new series: one with 3 new products and the other with their correspondant price\n",
        "# concatenate both series into a new dataframe with these 3 new items\n"
      ],
      "execution_count": 0,
      "outputs": []
    },
    {
      "cell_type": "code",
      "metadata": {
        "id": "d9summX_6oYM",
        "colab_type": "code",
        "colab": {}
      },
      "source": [
        "# append these 3 new items to the catalogue \n"
      ],
      "execution_count": 0,
      "outputs": []
    },
    {
      "cell_type": "code",
      "metadata": {
        "id": "C1eGvZ1kL6x5",
        "colab_type": "code",
        "colab": {}
      },
      "source": [
        "# assign a new column 'promotion_A' that divide the price/unit by 2\n"
      ],
      "execution_count": 0,
      "outputs": []
    },
    {
      "cell_type": "code",
      "metadata": {
        "id": "uYZnrDqDC8yN",
        "colab_type": "code",
        "colab": {}
      },
      "source": [
        "# correct return operations data (should have negative values in quantity)\n"
      ],
      "execution_count": 0,
      "outputs": []
    },
    {
      "cell_type": "code",
      "metadata": {
        "id": "aVZs4A8OL62R",
        "colab_type": "code",
        "colab": {}
      },
      "source": [
        "# assign a new column 'total_purchase' that is multiply price/unit by quantity\n"
      ],
      "execution_count": 0,
      "outputs": []
    },
    {
      "cell_type": "code",
      "metadata": {
        "id": "v3ZpqPl9L7F4",
        "colab_type": "code",
        "colab": {}
      },
      "source": [
        "# assign a new column 'promotion_B' that apply 10 euros discount on total purchase\n"
      ],
      "execution_count": 0,
      "outputs": []
    },
    {
      "cell_type": "code",
      "metadata": {
        "id": "q-I-dy-U7Vdm",
        "colab_type": "code",
        "colab": {}
      },
      "source": [
        "# create a variable that recommend which promotion is more interesting: 'A', 'B' o 'same'\n"
      ],
      "execution_count": 0,
      "outputs": []
    },
    {
      "cell_type": "code",
      "metadata": {
        "id": "80lu-I7riThi",
        "colab_type": "code",
        "colab": {}
      },
      "source": [
        "# Transpose the catalogue of products (rows as columns and columns as rows)\n"
      ],
      "execution_count": 0,
      "outputs": []
    },
    {
      "cell_type": "code",
      "metadata": {
        "id": "TJUQeF7kaDTi",
        "colab_type": "code",
        "colab": {}
      },
      "source": [
        "# drop columns that are not relevant for analysis\n"
      ],
      "execution_count": 0,
      "outputs": []
    },
    {
      "cell_type": "code",
      "metadata": {
        "id": "B-sLk4JmaDLq",
        "colab_type": "code",
        "colab": {}
      },
      "source": [
        "# drop registers where we don't know which client it is\n"
      ],
      "execution_count": 0,
      "outputs": []
    },
    {
      "cell_type": "code",
      "metadata": {
        "id": "K9JEay4u6CSs",
        "colab_type": "code",
        "colab": {}
      },
      "source": [
        "# add 3 duplicated registers\n"
      ],
      "execution_count": 0,
      "outputs": []
    },
    {
      "cell_type": "code",
      "metadata": {
        "id": "MA7wFqRlaDbu",
        "colab_type": "code",
        "colab": {}
      },
      "source": [
        "# drop duplicated registers\n"
      ],
      "execution_count": 0,
      "outputs": []
    },
    {
      "cell_type": "markdown",
      "metadata": {
        "id": "TQy-EV_q6dRk",
        "colab_type": "text"
      },
      "source": [
        "## 5. Look for patterns or differences to extract Insights & Save outputs"
      ]
    },
    {
      "cell_type": "code",
      "metadata": {
        "id": "5aQaArq96FS9",
        "colab_type": "code",
        "colab": {}
      },
      "source": [
        "# calculate the sum of purchases per client \n"
      ],
      "execution_count": 0,
      "outputs": []
    },
    {
      "cell_type": "code",
      "metadata": {
        "id": "Rg_Csy98FkLL",
        "colab_type": "code",
        "colab": {}
      },
      "source": [
        "# calculate the average operation quantity and price per city and shop \n"
      ],
      "execution_count": 0,
      "outputs": []
    },
    {
      "cell_type": "code",
      "metadata": {
        "id": "gJiFtQXUFkQL",
        "colab_type": "code",
        "colab": {}
      },
      "source": [
        "# calculate the minimum, median and maximum price, quantity and total purchase per product \n"
      ],
      "execution_count": 0,
      "outputs": []
    },
    {
      "cell_type": "code",
      "metadata": {
        "id": "6rcEjiVOJitT",
        "colab_type": "code",
        "colab": {}
      },
      "source": [
        "# do a summary tab with the total operations per shop and city\n"
      ],
      "execution_count": 0,
      "outputs": []
    },
    {
      "cell_type": "code",
      "metadata": {
        "id": "KZWqQI4JHTDI",
        "colab_type": "code",
        "colab": {}
      },
      "source": [
        "# count how many product units are purchased per city \n"
      ],
      "execution_count": 0,
      "outputs": []
    },
    {
      "cell_type": "code",
      "metadata": {
        "id": "wmQfAd5LHTHO",
        "colab_type": "code",
        "colab": {}
      },
      "source": [
        "# count how many operations per product are done per shop \n"
      ],
      "execution_count": 0,
      "outputs": []
    },
    {
      "cell_type": "code",
      "metadata": {
        "id": "LH5KmuakM-21",
        "colab_type": "code",
        "colab": {}
      },
      "source": [
        "# filter the dataframe by purchases only\n"
      ],
      "execution_count": 0,
      "outputs": []
    },
    {
      "cell_type": "code",
      "metadata": {
        "id": "kseYWxnmM8Zp",
        "colab_type": "code",
        "colab": {}
      },
      "source": [
        "# in this dataframe of purchases only, create a new column 'delivery_cost' \n",
        "# delivery should cost 5 euros but would be only 2 euros if total purchase ir more than 10 euros\n"
      ],
      "execution_count": 0,
      "outputs": []
    },
    {
      "cell_type": "code",
      "metadata": {
        "id": "aDFqx1PrM8sV",
        "colab_type": "code",
        "colab": {}
      },
      "source": [
        "# imagine you need to know the maximum length of all data contained in each variable (to build a database i.e)\n"
      ],
      "execution_count": 0,
      "outputs": []
    },
    {
      "cell_type": "code",
      "metadata": {
        "id": "_fGNuHHwrNU1",
        "colab_type": "code",
        "colab": {}
      },
      "source": [
        "# get the correlation (\"relationship\") matrix between numerical variables\n"
      ],
      "execution_count": 0,
      "outputs": []
    },
    {
      "cell_type": "code",
      "metadata": {
        "id": "Y5oLbDrhdzkt",
        "colab_type": "code",
        "colab": {}
      },
      "source": [
        "# save the csv in your folder\n"
      ],
      "execution_count": 0,
      "outputs": []
    }
  ]
}