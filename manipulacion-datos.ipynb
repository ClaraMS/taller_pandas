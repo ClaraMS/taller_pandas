{
 "cells": [
  {
   "cell_type": "markdown",
   "metadata": {},
   "source": [
    "<!--Header-->\n",
    "<div>\n",
    "    <div class=\"row\" style=\"color: #4D4D4D;font-size: 15px;padding-bottom: 20px\">\n",
    "        <div class=\"col-md-8\">\n",
    "            <h1 style=\"margin:15px 0px 0px;font-size: 40px;\">Manipulación de datos con la librería pandas</h1>\n",
    "            <div style=\"text-align:left;margin-top: 5px;\"></div>\n",
    "        </div>\n",
    "    </div>\n",
    "    <div class=\"row\" style=\"background: #FCB517;padding: 10px 20px;\"></div>\n",
    "\n",
    "</div>\n",
    "<!--/Header-->"
   ]
  },
  {
   "cell_type": "markdown",
   "metadata": {},
   "source": [
    "# Introducción\n",
    "\n",
    "![Pandas](pandas_logo.svg)\n",
    "\n",
    "`Pandas` es un paquete de `Python` que nos facilita la manipulación y el análisis de datos. Incorpora estructuras de datos rápidas y flexibles diseñadas para trabajar con datos relacionales o etiquetados de manera intuitiva.\n",
    "\n",
    "Nos permite trabajar con diferentes tipos de datos:\n",
    "\n",
    "- Tabulares con columnas heterogéneas, cómo `Excels`, `CSV` o tablas `SQL`\n",
    "- Series temporales, ordenadas o no\n",
    "- Matrices\n",
    "- Datos estadísticos y observacionales de todo tipo"
   ]
  },
  {
   "cell_type": "code",
   "execution_count": 2,
   "metadata": {},
   "outputs": [],
   "source": [
    "import pandas as pd\n",
    "import numpy as np"
   ]
  },
  {
   "cell_type": "markdown",
   "metadata": {},
   "source": [
    "# Estructuras de datos\n",
    "\n",
    "Las dos estructuras de datos que nos ofrece `Pandas` son las `Series` y el `DataFrame`."
   ]
  },
  {
   "cell_type": "markdown",
   "metadata": {},
   "source": [
    "## Series\n",
    "\n",
    "Las `Series` son `arrays` unidimensionales que pueden guardar datos de cualquier tipo, y tienen un `index`."
   ]
  },
  {
   "cell_type": "markdown",
   "metadata": {},
   "source": [
    "En este ejemplo vemos cómo podemos crear una `Series` donde el `index` corresponde al año y los valores la cantidad de habitantes de las ciudades más pobladas en el mundo."
   ]
  },
  {
   "cell_type": "code",
   "execution_count": 17,
   "metadata": {
    "scrolled": false
   },
   "outputs": [
    {
     "data": {
      "text/plain": [
       "0      670000\n",
       "1      700000\n",
       "2      699000\n",
       "3      115000\n",
       "4     6590000\n",
       "5     9460000\n",
       "6    16355000\n",
       "dtype: int64"
      ]
     },
     "execution_count": 17,
     "metadata": {},
     "output_type": "execute_result"
    }
   ],
   "source": [
    "People_in_time = pd.Series(\n",
    "    data = [670000, 700000, 699000, 115000, 6590000, 9460000, 16355000])\n",
    "People_in_time"
   ]
  },
  {
   "cell_type": "markdown",
   "metadata": {},
   "source": [
    "## DataFrame\n",
    "\n",
    "Los  `DataFrame` son `arrays` bidimensionales o matrices, indexados por filas y por columnas, y que también pueden guardar datos de cualquier tipo."
   ]
  },
  {
   "cell_type": "markdown",
   "metadata": {},
   "source": [
    "Por ejemplo, podemos crear un `DataFrame` con los datos del apartado anterior, añadiendo un par de indicadores más."
   ]
  },
  {
   "cell_type": "code",
   "execution_count": 18,
   "metadata": {
    "scrolled": false
   },
   "outputs": [
    {
     "data": {
      "text/html": [
       "<div>\n",
       "<style scoped>\n",
       "    .dataframe tbody tr th:only-of-type {\n",
       "        vertical-align: middle;\n",
       "    }\n",
       "\n",
       "    .dataframe tbody tr th {\n",
       "        vertical-align: top;\n",
       "    }\n",
       "\n",
       "    .dataframe thead th {\n",
       "        text-align: right;\n",
       "    }\n",
       "</style>\n",
       "<table border=\"1\" class=\"dataframe\">\n",
       "  <thead>\n",
       "    <tr style=\"text-align: right;\">\n",
       "      <th></th>\n",
       "      <th>Total</th>\n",
       "      <th>Año</th>\n",
       "      <th>Cities</th>\n",
       "    </tr>\n",
       "  </thead>\n",
       "  <tbody>\n",
       "    <tr>\n",
       "      <th>0</th>\n",
       "      <td>670000</td>\n",
       "      <td>1500</td>\n",
       "      <td>Pekín</td>\n",
       "    </tr>\n",
       "    <tr>\n",
       "      <th>1</th>\n",
       "      <td>700000</td>\n",
       "      <td>1600</td>\n",
       "      <td>Estambúl</td>\n",
       "    </tr>\n",
       "    <tr>\n",
       "      <th>2</th>\n",
       "      <td>699000</td>\n",
       "      <td>1700</td>\n",
       "      <td>Estambúl</td>\n",
       "    </tr>\n",
       "    <tr>\n",
       "      <th>3</th>\n",
       "      <td>115000</td>\n",
       "      <td>1800</td>\n",
       "      <td>Pekín</td>\n",
       "    </tr>\n",
       "    <tr>\n",
       "      <th>4</th>\n",
       "      <td>6590000</td>\n",
       "      <td>1900</td>\n",
       "      <td>Londres</td>\n",
       "    </tr>\n",
       "    <tr>\n",
       "      <th>5</th>\n",
       "      <td>9460000</td>\n",
       "      <td>1935</td>\n",
       "      <td>Nueva York</td>\n",
       "    </tr>\n",
       "    <tr>\n",
       "      <th>6</th>\n",
       "      <td>16355000</td>\n",
       "      <td>1960</td>\n",
       "      <td>Tokyo</td>\n",
       "    </tr>\n",
       "  </tbody>\n",
       "</table>\n",
       "</div>"
      ],
      "text/plain": [
       "      Total   Año      Cities\n",
       "0    670000  1500       Pekín\n",
       "1    700000  1600    Estambúl\n",
       "2    699000  1700    Estambúl\n",
       "3    115000  1800       Pekín\n",
       "4   6590000  1900     Londres\n",
       "5   9460000  1935  Nueva York\n",
       "6  16355000  1960       Tokyo"
      ]
     },
     "execution_count": 18,
     "metadata": {},
     "output_type": "execute_result"
    }
   ],
   "source": [
    "df_people_in_time = {\n",
    "    'Cities': [\n",
    "        'Pekín','Estambúl','Estambúl','Pekín','Londres','Nueva York','Tokyo'],\n",
    "    'Año': [1500, 1600, 1700, 1800, 1900, 1935, 1960],\n",
    "    'Total': [670000, 700000, 699000, 115000, 6590000, 9460000, 16355000]\n",
    "}\n",
    "\n",
    "pd.DataFrame(df_people_in_time, columns = ['Total', 'Año', 'Cities'])"
   ]
  },
  {
   "cell_type": "markdown",
   "metadata": {},
   "source": [
    "# Selección de columnas"
   ]
  },
  {
   "cell_type": "markdown",
   "metadata": {},
   "source": [
    "El `DataFrame` que usaremos en este ejemplo corresponde al dataset de la competición [Titanic: Machine Learning from Disaster](https://www.kaggle.com/c/titanic) de [Kaggle](https://www.kaggle.com/)."
   ]
  },
  {
   "cell_type": "code",
   "execution_count": 3,
   "metadata": {
    "scrolled": true
   },
   "outputs": [
    {
     "data": {
      "text/html": [
       "<div>\n",
       "<style scoped>\n",
       "    .dataframe tbody tr th:only-of-type {\n",
       "        vertical-align: middle;\n",
       "    }\n",
       "\n",
       "    .dataframe tbody tr th {\n",
       "        vertical-align: top;\n",
       "    }\n",
       "\n",
       "    .dataframe thead th {\n",
       "        text-align: right;\n",
       "    }\n",
       "</style>\n",
       "<table border=\"1\" class=\"dataframe\">\n",
       "  <thead>\n",
       "    <tr style=\"text-align: right;\">\n",
       "      <th></th>\n",
       "      <th>PassengerId</th>\n",
       "      <th>Survived</th>\n",
       "      <th>Pclass</th>\n",
       "      <th>Name</th>\n",
       "      <th>Sex</th>\n",
       "      <th>Age</th>\n",
       "      <th>SibSp</th>\n",
       "      <th>Parch</th>\n",
       "      <th>Ticket</th>\n",
       "      <th>Fare</th>\n",
       "      <th>Cabin</th>\n",
       "      <th>Embarked</th>\n",
       "    </tr>\n",
       "  </thead>\n",
       "  <tbody>\n",
       "    <tr>\n",
       "      <th>0</th>\n",
       "      <td>1</td>\n",
       "      <td>0</td>\n",
       "      <td>3</td>\n",
       "      <td>Braund, Mr. Owen Harris</td>\n",
       "      <td>male</td>\n",
       "      <td>22.0</td>\n",
       "      <td>1</td>\n",
       "      <td>0</td>\n",
       "      <td>A/5 21171</td>\n",
       "      <td>7.2500</td>\n",
       "      <td>NaN</td>\n",
       "      <td>S</td>\n",
       "    </tr>\n",
       "    <tr>\n",
       "      <th>1</th>\n",
       "      <td>2</td>\n",
       "      <td>1</td>\n",
       "      <td>1</td>\n",
       "      <td>Cumings, Mrs. John Bradley (Florence Briggs Th...</td>\n",
       "      <td>female</td>\n",
       "      <td>38.0</td>\n",
       "      <td>1</td>\n",
       "      <td>0</td>\n",
       "      <td>PC 17599</td>\n",
       "      <td>71.2833</td>\n",
       "      <td>C85</td>\n",
       "      <td>C</td>\n",
       "    </tr>\n",
       "    <tr>\n",
       "      <th>2</th>\n",
       "      <td>3</td>\n",
       "      <td>1</td>\n",
       "      <td>3</td>\n",
       "      <td>Heikkinen, Miss. Laina</td>\n",
       "      <td>female</td>\n",
       "      <td>26.0</td>\n",
       "      <td>0</td>\n",
       "      <td>0</td>\n",
       "      <td>STON/O2. 3101282</td>\n",
       "      <td>7.9250</td>\n",
       "      <td>NaN</td>\n",
       "      <td>S</td>\n",
       "    </tr>\n",
       "    <tr>\n",
       "      <th>3</th>\n",
       "      <td>4</td>\n",
       "      <td>1</td>\n",
       "      <td>1</td>\n",
       "      <td>Futrelle, Mrs. Jacques Heath (Lily May Peel)</td>\n",
       "      <td>female</td>\n",
       "      <td>35.0</td>\n",
       "      <td>1</td>\n",
       "      <td>0</td>\n",
       "      <td>113803</td>\n",
       "      <td>53.1000</td>\n",
       "      <td>C123</td>\n",
       "      <td>S</td>\n",
       "    </tr>\n",
       "    <tr>\n",
       "      <th>4</th>\n",
       "      <td>5</td>\n",
       "      <td>0</td>\n",
       "      <td>3</td>\n",
       "      <td>Allen, Mr. William Henry</td>\n",
       "      <td>male</td>\n",
       "      <td>35.0</td>\n",
       "      <td>0</td>\n",
       "      <td>0</td>\n",
       "      <td>373450</td>\n",
       "      <td>8.0500</td>\n",
       "      <td>NaN</td>\n",
       "      <td>S</td>\n",
       "    </tr>\n",
       "  </tbody>\n",
       "</table>\n",
       "</div>"
      ],
      "text/plain": [
       "   PassengerId  Survived  Pclass  \\\n",
       "0            1         0       3   \n",
       "1            2         1       1   \n",
       "2            3         1       3   \n",
       "3            4         1       1   \n",
       "4            5         0       3   \n",
       "\n",
       "                                                Name     Sex   Age  SibSp  \\\n",
       "0                            Braund, Mr. Owen Harris    male  22.0      1   \n",
       "1  Cumings, Mrs. John Bradley (Florence Briggs Th...  female  38.0      1   \n",
       "2                             Heikkinen, Miss. Laina  female  26.0      0   \n",
       "3       Futrelle, Mrs. Jacques Heath (Lily May Peel)  female  35.0      1   \n",
       "4                           Allen, Mr. William Henry    male  35.0      0   \n",
       "\n",
       "   Parch            Ticket     Fare Cabin Embarked  \n",
       "0      0         A/5 21171   7.2500   NaN        S  \n",
       "1      0          PC 17599  71.2833   C85        C  \n",
       "2      0  STON/O2. 3101282   7.9250   NaN        S  \n",
       "3      0            113803  53.1000  C123        S  \n",
       "4      0            373450   8.0500   NaN        S  "
      ]
     },
     "execution_count": 3,
     "metadata": {},
     "output_type": "execute_result"
    }
   ],
   "source": [
    "df = pd.read_csv('train.csv')\n",
    "df.head()"
   ]
  },
  {
   "cell_type": "markdown",
   "metadata": {},
   "source": [
    "Podemos seleccionar una columna determinada de un `DataFrame`, por ejemplo, la columna _Name_ indistintamente con `df.Name` o `df['Name']`."
   ]
  },
  {
   "cell_type": "code",
   "execution_count": 22,
   "metadata": {},
   "outputs": [
    {
     "data": {
      "text/plain": [
       "0                              Braund, Mr. Owen Harris\n",
       "1    Cumings, Mrs. John Bradley (Florence Briggs Th...\n",
       "2                               Heikkinen, Miss. Laina\n",
       "3         Futrelle, Mrs. Jacques Heath (Lily May Peel)\n",
       "4                             Allen, Mr. William Henry\n",
       "Name: Name, dtype: object"
      ]
     },
     "execution_count": 22,
     "metadata": {},
     "output_type": "execute_result"
    }
   ],
   "source": [
    "df.Name.head()"
   ]
  },
  {
   "cell_type": "code",
   "execution_count": 4,
   "metadata": {
    "scrolled": true
   },
   "outputs": [
    {
     "data": {
      "text/plain": [
       "0                                Braund, Mr. Owen Harris\n",
       "1      Cumings, Mrs. John Bradley (Florence Briggs Th...\n",
       "2                                 Heikkinen, Miss. Laina\n",
       "3           Futrelle, Mrs. Jacques Heath (Lily May Peel)\n",
       "4                               Allen, Mr. William Henry\n",
       "5                                       Moran, Mr. James\n",
       "6                                McCarthy, Mr. Timothy J\n",
       "7                         Palsson, Master. Gosta Leonard\n",
       "8      Johnson, Mrs. Oscar W (Elisabeth Vilhelmina Berg)\n",
       "9                    Nasser, Mrs. Nicholas (Adele Achem)\n",
       "10                       Sandstrom, Miss. Marguerite Rut\n",
       "11                              Bonnell, Miss. Elizabeth\n",
       "12                        Saundercock, Mr. William Henry\n",
       "13                           Andersson, Mr. Anders Johan\n",
       "14                  Vestrom, Miss. Hulda Amanda Adolfina\n",
       "15                      Hewlett, Mrs. (Mary D Kingcome) \n",
       "16                                  Rice, Master. Eugene\n",
       "17                          Williams, Mr. Charles Eugene\n",
       "18     Vander Planke, Mrs. Julius (Emelia Maria Vande...\n",
       "19                               Masselmani, Mrs. Fatima\n",
       "20                                  Fynney, Mr. Joseph J\n",
       "21                                 Beesley, Mr. Lawrence\n",
       "22                           McGowan, Miss. Anna \"Annie\"\n",
       "23                          Sloper, Mr. William Thompson\n",
       "24                         Palsson, Miss. Torborg Danira\n",
       "25     Asplund, Mrs. Carl Oscar (Selma Augusta Emilia...\n",
       "26                               Emir, Mr. Farred Chehab\n",
       "27                        Fortune, Mr. Charles Alexander\n",
       "28                         O'Dwyer, Miss. Ellen \"Nellie\"\n",
       "29                                   Todoroff, Mr. Lalio\n",
       "                             ...                        \n",
       "861                          Giles, Mr. Frederick Edward\n",
       "862    Swift, Mrs. Frederick Joel (Margaret Welles Ba...\n",
       "863                    Sage, Miss. Dorothy Edith \"Dolly\"\n",
       "864                               Gill, Mr. John William\n",
       "865                             Bystrom, Mrs. (Karolina)\n",
       "866                         Duran y More, Miss. Asuncion\n",
       "867                 Roebling, Mr. Washington Augustus II\n",
       "868                          van Melkebeke, Mr. Philemon\n",
       "869                      Johnson, Master. Harold Theodor\n",
       "870                                    Balkic, Mr. Cerin\n",
       "871     Beckwith, Mrs. Richard Leonard (Sallie Monypeny)\n",
       "872                             Carlsson, Mr. Frans Olof\n",
       "873                          Vander Cruyssen, Mr. Victor\n",
       "874                Abelson, Mrs. Samuel (Hannah Wizosky)\n",
       "875                     Najib, Miss. Adele Kiamie \"Jane\"\n",
       "876                        Gustafsson, Mr. Alfred Ossian\n",
       "877                                 Petroff, Mr. Nedelio\n",
       "878                                   Laleff, Mr. Kristo\n",
       "879        Potter, Mrs. Thomas Jr (Lily Alexenia Wilson)\n",
       "880         Shelley, Mrs. William (Imanita Parrish Hall)\n",
       "881                                   Markun, Mr. Johann\n",
       "882                         Dahlberg, Miss. Gerda Ulrika\n",
       "883                        Banfield, Mr. Frederick James\n",
       "884                               Sutehall, Mr. Henry Jr\n",
       "885                 Rice, Mrs. William (Margaret Norton)\n",
       "886                                Montvila, Rev. Juozas\n",
       "887                         Graham, Miss. Margaret Edith\n",
       "888             Johnston, Miss. Catherine Helen \"Carrie\"\n",
       "889                                Behr, Mr. Karl Howell\n",
       "890                                  Dooley, Mr. Patrick\n",
       "Name: Name, Length: 891, dtype: object"
      ]
     },
     "execution_count": 4,
     "metadata": {},
     "output_type": "execute_result"
    }
   ],
   "source": [
    "(df['Name'])"
   ]
  },
  {
   "cell_type": "code",
   "execution_count": 5,
   "metadata": {},
   "outputs": [
    {
     "data": {
      "text/plain": [
       "0                                Braund, Mr. Owen Harris\n",
       "1      Cumings, Mrs. John Bradley (Florence Briggs Th...\n",
       "2                                 Heikkinen, Miss. Laina\n",
       "3           Futrelle, Mrs. Jacques Heath (Lily May Peel)\n",
       "4                               Allen, Mr. William Henry\n",
       "5                                       Moran, Mr. James\n",
       "6                                McCarthy, Mr. Timothy J\n",
       "7                         Palsson, Master. Gosta Leonard\n",
       "8      Johnson, Mrs. Oscar W (Elisabeth Vilhelmina Berg)\n",
       "9                    Nasser, Mrs. Nicholas (Adele Achem)\n",
       "10                       Sandstrom, Miss. Marguerite Rut\n",
       "11                              Bonnell, Miss. Elizabeth\n",
       "12                        Saundercock, Mr. William Henry\n",
       "13                           Andersson, Mr. Anders Johan\n",
       "14                  Vestrom, Miss. Hulda Amanda Adolfina\n",
       "15                      Hewlett, Mrs. (Mary D Kingcome) \n",
       "16                                  Rice, Master. Eugene\n",
       "17                          Williams, Mr. Charles Eugene\n",
       "18     Vander Planke, Mrs. Julius (Emelia Maria Vande...\n",
       "19                               Masselmani, Mrs. Fatima\n",
       "20                                  Fynney, Mr. Joseph J\n",
       "21                                 Beesley, Mr. Lawrence\n",
       "22                           McGowan, Miss. Anna \"Annie\"\n",
       "23                          Sloper, Mr. William Thompson\n",
       "24                         Palsson, Miss. Torborg Danira\n",
       "25     Asplund, Mrs. Carl Oscar (Selma Augusta Emilia...\n",
       "26                               Emir, Mr. Farred Chehab\n",
       "27                        Fortune, Mr. Charles Alexander\n",
       "28                         O'Dwyer, Miss. Ellen \"Nellie\"\n",
       "29                                   Todoroff, Mr. Lalio\n",
       "                             ...                        \n",
       "861                          Giles, Mr. Frederick Edward\n",
       "862    Swift, Mrs. Frederick Joel (Margaret Welles Ba...\n",
       "863                    Sage, Miss. Dorothy Edith \"Dolly\"\n",
       "864                               Gill, Mr. John William\n",
       "865                             Bystrom, Mrs. (Karolina)\n",
       "866                         Duran y More, Miss. Asuncion\n",
       "867                 Roebling, Mr. Washington Augustus II\n",
       "868                          van Melkebeke, Mr. Philemon\n",
       "869                      Johnson, Master. Harold Theodor\n",
       "870                                    Balkic, Mr. Cerin\n",
       "871     Beckwith, Mrs. Richard Leonard (Sallie Monypeny)\n",
       "872                             Carlsson, Mr. Frans Olof\n",
       "873                          Vander Cruyssen, Mr. Victor\n",
       "874                Abelson, Mrs. Samuel (Hannah Wizosky)\n",
       "875                     Najib, Miss. Adele Kiamie \"Jane\"\n",
       "876                        Gustafsson, Mr. Alfred Ossian\n",
       "877                                 Petroff, Mr. Nedelio\n",
       "878                                   Laleff, Mr. Kristo\n",
       "879        Potter, Mrs. Thomas Jr (Lily Alexenia Wilson)\n",
       "880         Shelley, Mrs. William (Imanita Parrish Hall)\n",
       "881                                   Markun, Mr. Johann\n",
       "882                         Dahlberg, Miss. Gerda Ulrika\n",
       "883                        Banfield, Mr. Frederick James\n",
       "884                               Sutehall, Mr. Henry Jr\n",
       "885                 Rice, Mrs. William (Margaret Norton)\n",
       "886                                Montvila, Rev. Juozas\n",
       "887                         Graham, Miss. Margaret Edith\n",
       "888             Johnston, Miss. Catherine Helen \"Carrie\"\n",
       "889                                Behr, Mr. Karl Howell\n",
       "890                                  Dooley, Mr. Patrick\n",
       "Name: Name, Length: 891, dtype: object"
      ]
     },
     "execution_count": 5,
     "metadata": {},
     "output_type": "execute_result"
    }
   ],
   "source": [
    "df.Name"
   ]
  },
  {
   "cell_type": "markdown",
   "metadata": {},
   "source": [
    "Cada columna de nuestro `DataFrame` es un objeto de tipo `Series`."
   ]
  },
  {
   "cell_type": "code",
   "execution_count": 24,
   "metadata": {},
   "outputs": [
    {
     "data": {
      "text/plain": [
       "pandas.core.series.Series"
      ]
     },
     "execution_count": 24,
     "metadata": {},
     "output_type": "execute_result"
    }
   ],
   "source": [
    "type(df.Name)"
   ]
  },
  {
   "cell_type": "markdown",
   "metadata": {},
   "source": [
    "Para seleccionar más de una columna, utilizaremos un `array` con los nombres de las columnas."
   ]
  },
  {
   "cell_type": "code",
   "execution_count": 25,
   "metadata": {},
   "outputs": [
    {
     "data": {
      "text/html": [
       "<div>\n",
       "<style scoped>\n",
       "    .dataframe tbody tr th:only-of-type {\n",
       "        vertical-align: middle;\n",
       "    }\n",
       "\n",
       "    .dataframe tbody tr th {\n",
       "        vertical-align: top;\n",
       "    }\n",
       "\n",
       "    .dataframe thead th {\n",
       "        text-align: right;\n",
       "    }\n",
       "</style>\n",
       "<table border=\"1\" class=\"dataframe\">\n",
       "  <thead>\n",
       "    <tr style=\"text-align: right;\">\n",
       "      <th></th>\n",
       "      <th>Name</th>\n",
       "      <th>Sex</th>\n",
       "    </tr>\n",
       "  </thead>\n",
       "  <tbody>\n",
       "    <tr>\n",
       "      <th>0</th>\n",
       "      <td>Braund, Mr. Owen Harris</td>\n",
       "      <td>male</td>\n",
       "    </tr>\n",
       "    <tr>\n",
       "      <th>1</th>\n",
       "      <td>Cumings, Mrs. John Bradley (Florence Briggs Th...</td>\n",
       "      <td>female</td>\n",
       "    </tr>\n",
       "    <tr>\n",
       "      <th>2</th>\n",
       "      <td>Heikkinen, Miss. Laina</td>\n",
       "      <td>female</td>\n",
       "    </tr>\n",
       "    <tr>\n",
       "      <th>3</th>\n",
       "      <td>Futrelle, Mrs. Jacques Heath (Lily May Peel)</td>\n",
       "      <td>female</td>\n",
       "    </tr>\n",
       "    <tr>\n",
       "      <th>4</th>\n",
       "      <td>Allen, Mr. William Henry</td>\n",
       "      <td>male</td>\n",
       "    </tr>\n",
       "  </tbody>\n",
       "</table>\n",
       "</div>"
      ],
      "text/plain": [
       "                                                Name     Sex\n",
       "0                            Braund, Mr. Owen Harris    male\n",
       "1  Cumings, Mrs. John Bradley (Florence Briggs Th...  female\n",
       "2                             Heikkinen, Miss. Laina  female\n",
       "3       Futrelle, Mrs. Jacques Heath (Lily May Peel)  female\n",
       "4                           Allen, Mr. William Henry    male"
      ]
     },
     "execution_count": 25,
     "metadata": {},
     "output_type": "execute_result"
    }
   ],
   "source": [
    "df[['Name', 'Sex']].head()"
   ]
  },
  {
   "cell_type": "markdown",
   "metadata": {},
   "source": [
    "# Filtrado de filas"
   ]
  },
  {
   "cell_type": "markdown",
   "metadata": {},
   "source": [
    "`Pandas` nos ofrece diferentes maneras para filtrar los datos de un `DataFrame`."
   ]
  },
  {
   "cell_type": "markdown",
   "metadata": {},
   "source": [
    "## Filtrado de filas basado en condiciones"
   ]
  },
  {
   "cell_type": "markdown",
   "metadata": {},
   "source": [
    "En muchos de los casos querremos seleccionar un subconjunto de filas que cumplan alguna condición. Por ejemplo, podemos seleccionar aquellos pasajeros de hayan sobrevivido a la tragedia del Titanic."
   ]
  },
  {
   "cell_type": "code",
   "execution_count": 26,
   "metadata": {
    "scrolled": true
   },
   "outputs": [
    {
     "data": {
      "text/html": [
       "<div>\n",
       "<style scoped>\n",
       "    .dataframe tbody tr th:only-of-type {\n",
       "        vertical-align: middle;\n",
       "    }\n",
       "\n",
       "    .dataframe tbody tr th {\n",
       "        vertical-align: top;\n",
       "    }\n",
       "\n",
       "    .dataframe thead th {\n",
       "        text-align: right;\n",
       "    }\n",
       "</style>\n",
       "<table border=\"1\" class=\"dataframe\">\n",
       "  <thead>\n",
       "    <tr style=\"text-align: right;\">\n",
       "      <th></th>\n",
       "      <th>PassengerId</th>\n",
       "      <th>Survived</th>\n",
       "      <th>Pclass</th>\n",
       "      <th>Name</th>\n",
       "      <th>Sex</th>\n",
       "      <th>Age</th>\n",
       "      <th>SibSp</th>\n",
       "      <th>Parch</th>\n",
       "      <th>Ticket</th>\n",
       "      <th>Fare</th>\n",
       "      <th>Cabin</th>\n",
       "      <th>Embarked</th>\n",
       "    </tr>\n",
       "  </thead>\n",
       "  <tbody>\n",
       "    <tr>\n",
       "      <th>1</th>\n",
       "      <td>2</td>\n",
       "      <td>1</td>\n",
       "      <td>1</td>\n",
       "      <td>Cumings, Mrs. John Bradley (Florence Briggs Th...</td>\n",
       "      <td>female</td>\n",
       "      <td>38.0</td>\n",
       "      <td>1</td>\n",
       "      <td>0</td>\n",
       "      <td>PC 17599</td>\n",
       "      <td>71.2833</td>\n",
       "      <td>C85</td>\n",
       "      <td>C</td>\n",
       "    </tr>\n",
       "    <tr>\n",
       "      <th>2</th>\n",
       "      <td>3</td>\n",
       "      <td>1</td>\n",
       "      <td>3</td>\n",
       "      <td>Heikkinen, Miss. Laina</td>\n",
       "      <td>female</td>\n",
       "      <td>26.0</td>\n",
       "      <td>0</td>\n",
       "      <td>0</td>\n",
       "      <td>STON/O2. 3101282</td>\n",
       "      <td>7.9250</td>\n",
       "      <td>NaN</td>\n",
       "      <td>S</td>\n",
       "    </tr>\n",
       "    <tr>\n",
       "      <th>3</th>\n",
       "      <td>4</td>\n",
       "      <td>1</td>\n",
       "      <td>1</td>\n",
       "      <td>Futrelle, Mrs. Jacques Heath (Lily May Peel)</td>\n",
       "      <td>female</td>\n",
       "      <td>35.0</td>\n",
       "      <td>1</td>\n",
       "      <td>0</td>\n",
       "      <td>113803</td>\n",
       "      <td>53.1000</td>\n",
       "      <td>C123</td>\n",
       "      <td>S</td>\n",
       "    </tr>\n",
       "    <tr>\n",
       "      <th>8</th>\n",
       "      <td>9</td>\n",
       "      <td>1</td>\n",
       "      <td>3</td>\n",
       "      <td>Johnson, Mrs. Oscar W (Elisabeth Vilhelmina Berg)</td>\n",
       "      <td>female</td>\n",
       "      <td>27.0</td>\n",
       "      <td>0</td>\n",
       "      <td>2</td>\n",
       "      <td>347742</td>\n",
       "      <td>11.1333</td>\n",
       "      <td>NaN</td>\n",
       "      <td>S</td>\n",
       "    </tr>\n",
       "    <tr>\n",
       "      <th>9</th>\n",
       "      <td>10</td>\n",
       "      <td>1</td>\n",
       "      <td>2</td>\n",
       "      <td>Nasser, Mrs. Nicholas (Adele Achem)</td>\n",
       "      <td>female</td>\n",
       "      <td>14.0</td>\n",
       "      <td>1</td>\n",
       "      <td>0</td>\n",
       "      <td>237736</td>\n",
       "      <td>30.0708</td>\n",
       "      <td>NaN</td>\n",
       "      <td>C</td>\n",
       "    </tr>\n",
       "  </tbody>\n",
       "</table>\n",
       "</div>"
      ],
      "text/plain": [
       "   PassengerId  Survived  Pclass  \\\n",
       "1            2         1       1   \n",
       "2            3         1       3   \n",
       "3            4         1       1   \n",
       "8            9         1       3   \n",
       "9           10         1       2   \n",
       "\n",
       "                                                Name     Sex   Age  SibSp  \\\n",
       "1  Cumings, Mrs. John Bradley (Florence Briggs Th...  female  38.0      1   \n",
       "2                             Heikkinen, Miss. Laina  female  26.0      0   \n",
       "3       Futrelle, Mrs. Jacques Heath (Lily May Peel)  female  35.0      1   \n",
       "8  Johnson, Mrs. Oscar W (Elisabeth Vilhelmina Berg)  female  27.0      0   \n",
       "9                Nasser, Mrs. Nicholas (Adele Achem)  female  14.0      1   \n",
       "\n",
       "   Parch            Ticket     Fare Cabin Embarked  \n",
       "1      0          PC 17599  71.2833   C85        C  \n",
       "2      0  STON/O2. 3101282   7.9250   NaN        S  \n",
       "3      0            113803  53.1000  C123        S  \n",
       "8      2            347742  11.1333   NaN        S  \n",
       "9      0            237736  30.0708   NaN        C  "
      ]
     },
     "execution_count": 26,
     "metadata": {},
     "output_type": "execute_result"
    }
   ],
   "source": [
    "survivors = df[df.Survived == 1]\n",
    "survivors.head()"
   ]
  },
  {
   "cell_type": "markdown",
   "metadata": {},
   "source": [
    "La condición puede ser tan compleja como queramos. Por ejemplo, a continuación seleccionaremos aquellos pasajeros menores de 21 años que hayan sobrevivido y estuvieran en alguna cabina."
   ]
  },
  {
   "cell_type": "code",
   "execution_count": 27,
   "metadata": {
    "scrolled": true
   },
   "outputs": [
    {
     "data": {
      "text/html": [
       "<div>\n",
       "<style scoped>\n",
       "    .dataframe tbody tr th:only-of-type {\n",
       "        vertical-align: middle;\n",
       "    }\n",
       "\n",
       "    .dataframe tbody tr th {\n",
       "        vertical-align: top;\n",
       "    }\n",
       "\n",
       "    .dataframe thead th {\n",
       "        text-align: right;\n",
       "    }\n",
       "</style>\n",
       "<table border=\"1\" class=\"dataframe\">\n",
       "  <thead>\n",
       "    <tr style=\"text-align: right;\">\n",
       "      <th></th>\n",
       "      <th>PassengerId</th>\n",
       "      <th>Survived</th>\n",
       "      <th>Pclass</th>\n",
       "      <th>Name</th>\n",
       "      <th>Sex</th>\n",
       "      <th>Age</th>\n",
       "      <th>SibSp</th>\n",
       "      <th>Parch</th>\n",
       "      <th>Ticket</th>\n",
       "      <th>Fare</th>\n",
       "      <th>Cabin</th>\n",
       "      <th>Embarked</th>\n",
       "    </tr>\n",
       "  </thead>\n",
       "  <tbody>\n",
       "    <tr>\n",
       "      <th>10</th>\n",
       "      <td>11</td>\n",
       "      <td>1</td>\n",
       "      <td>3</td>\n",
       "      <td>Sandstrom, Miss. Marguerite Rut</td>\n",
       "      <td>female</td>\n",
       "      <td>4.0</td>\n",
       "      <td>1</td>\n",
       "      <td>1</td>\n",
       "      <td>PP 9549</td>\n",
       "      <td>16.7000</td>\n",
       "      <td>G6</td>\n",
       "      <td>S</td>\n",
       "    </tr>\n",
       "    <tr>\n",
       "      <th>136</th>\n",
       "      <td>137</td>\n",
       "      <td>1</td>\n",
       "      <td>1</td>\n",
       "      <td>Newsom, Miss. Helen Monypeny</td>\n",
       "      <td>female</td>\n",
       "      <td>19.0</td>\n",
       "      <td>0</td>\n",
       "      <td>2</td>\n",
       "      <td>11752</td>\n",
       "      <td>26.2833</td>\n",
       "      <td>D47</td>\n",
       "      <td>S</td>\n",
       "    </tr>\n",
       "    <tr>\n",
       "      <th>183</th>\n",
       "      <td>184</td>\n",
       "      <td>1</td>\n",
       "      <td>2</td>\n",
       "      <td>Becker, Master. Richard F</td>\n",
       "      <td>male</td>\n",
       "      <td>1.0</td>\n",
       "      <td>2</td>\n",
       "      <td>1</td>\n",
       "      <td>230136</td>\n",
       "      <td>39.0000</td>\n",
       "      <td>F4</td>\n",
       "      <td>S</td>\n",
       "    </tr>\n",
       "    <tr>\n",
       "      <th>193</th>\n",
       "      <td>194</td>\n",
       "      <td>1</td>\n",
       "      <td>2</td>\n",
       "      <td>Navratil, Master. Michel M</td>\n",
       "      <td>male</td>\n",
       "      <td>3.0</td>\n",
       "      <td>1</td>\n",
       "      <td>1</td>\n",
       "      <td>230080</td>\n",
       "      <td>26.0000</td>\n",
       "      <td>F2</td>\n",
       "      <td>S</td>\n",
       "    </tr>\n",
       "    <tr>\n",
       "      <th>291</th>\n",
       "      <td>292</td>\n",
       "      <td>1</td>\n",
       "      <td>1</td>\n",
       "      <td>Bishop, Mrs. Dickinson H (Helen Walton)</td>\n",
       "      <td>female</td>\n",
       "      <td>19.0</td>\n",
       "      <td>1</td>\n",
       "      <td>0</td>\n",
       "      <td>11967</td>\n",
       "      <td>91.0792</td>\n",
       "      <td>B49</td>\n",
       "      <td>C</td>\n",
       "    </tr>\n",
       "  </tbody>\n",
       "</table>\n",
       "</div>"
      ],
      "text/plain": [
       "     PassengerId  Survived  Pclass                                     Name  \\\n",
       "10            11         1       3          Sandstrom, Miss. Marguerite Rut   \n",
       "136          137         1       1             Newsom, Miss. Helen Monypeny   \n",
       "183          184         1       2                Becker, Master. Richard F   \n",
       "193          194         1       2               Navratil, Master. Michel M   \n",
       "291          292         1       1  Bishop, Mrs. Dickinson H (Helen Walton)   \n",
       "\n",
       "        Sex   Age  SibSp  Parch   Ticket     Fare Cabin Embarked  \n",
       "10   female   4.0      1      1  PP 9549  16.7000    G6        S  \n",
       "136  female  19.0      0      2    11752  26.2833   D47        S  \n",
       "183    male   1.0      2      1   230136  39.0000    F4        S  \n",
       "193    male   3.0      1      1   230080  26.0000    F2        S  \n",
       "291  female  19.0      1      0    11967  91.0792   B49        C  "
      ]
     },
     "execution_count": 27,
     "metadata": {},
     "output_type": "execute_result"
    }
   ],
   "source": [
    "survivors = df[(df.Survived == 1) & (df.Age < 21) & ~(pd.isna(df.Cabin))]\n",
    "survivors.head()"
   ]
  }
 ],
 "metadata": {
  "kernelspec": {
   "display_name": "Python 3",
   "language": "python",
   "name": "python3"
  },
  "language_info": {
   "codemirror_mode": {
    "name": "ipython",
    "version": 3
   },
   "file_extension": ".py",
   "mimetype": "text/x-python",
   "name": "python",
   "nbconvert_exporter": "python",
   "pygments_lexer": "ipython3",
   "version": "3.7.3"
  }
 },
 "nbformat": 4,
 "nbformat_minor": 1
}
